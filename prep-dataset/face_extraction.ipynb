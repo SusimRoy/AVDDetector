{
 "cells": [
  {
   "cell_type": "code",
   "execution_count": 2,
   "metadata": {},
   "outputs": [],
   "source": [
    "import cv2\n",
    "from insightface.app import FaceAnalysis"
   ]
  },
  {
   "cell_type": "code",
   "execution_count": 3,
   "metadata": {},
   "outputs": [
    {
     "name": "stdout",
     "output_type": "stream",
     "text": [
      "Applied providers: ['CPUExecutionProvider'], with options: {'CPUExecutionProvider': {}}\n",
      "find model: /home/csgrad/susimmuk/.insightface/models/buffalo_l/1k3d68.onnx landmark_3d_68 ['None', 3, 192, 192] 0.0 1.0\n",
      "Applied providers: ['CPUExecutionProvider'], with options: {'CPUExecutionProvider': {}}\n",
      "find model: /home/csgrad/susimmuk/.insightface/models/buffalo_l/2d106det.onnx landmark_2d_106 ['None', 3, 192, 192] 0.0 1.0\n",
      "Applied providers: ['CPUExecutionProvider'], with options: {'CPUExecutionProvider': {}}\n",
      "find model: /home/csgrad/susimmuk/.insightface/models/buffalo_l/det_10g.onnx detection [1, 3, '?', '?'] 127.5 128.0\n",
      "Applied providers: ['CPUExecutionProvider'], with options: {'CPUExecutionProvider': {}}\n",
      "find model: /home/csgrad/susimmuk/.insightface/models/buffalo_l/genderage.onnx genderage ['None', 3, 96, 96] 0.0 1.0\n",
      "Applied providers: ['CPUExecutionProvider'], with options: {'CPUExecutionProvider': {}}\n",
      "find model: /home/csgrad/susimmuk/.insightface/models/buffalo_l/w600k_r50.onnx recognition ['None', 3, 112, 112] 127.5 127.5\n",
      "set det-size: (224, 224)\n",
      "Saved 250 faces from 250 frames to /home/csgrad/susimmuk/acmdeepfake/data/AV-Deepfake1M-PlusPlus/faces\n"
     ]
    }
   ],
   "source": [
    "import cv2\n",
    "import os\n",
    "from insightface.app import FaceAnalysis\n",
    "\n",
    "app = FaceAnalysis(providers=['CUDAExecutionProvider', 'CPUExecutionProvider'])\n",
    "app.prepare(ctx_id=0, det_size=(224, 224))\n",
    "\n",
    "# video_path = '/home/csgrad/susimmuk/acmdeepfake/data/AV-Deepfake1M-PlusPlus/train/lrs3/bvAEJ8G9l9U/00039/00039_p1.mp4'\n",
    "video_path = '/home/csgrad/susimmuk/acmdeepfake/data/AV-Deepfake1M-PlusPlus/train/silent_videos/subject_111_z2gx0nezbr_vid_0_14/real.mp4'\n",
    "cap = cv2.VideoCapture(video_path)\n",
    "\n",
    "output_dir = \"/home/csgrad/susimmuk/acmdeepfake/data/AV-Deepfake1M-PlusPlus/faces\"\n",
    "os.makedirs(output_dir, exist_ok=True)\n",
    "\n",
    "frame_idx = 0\n",
    "face_count = 0\n",
    "\n",
    "while True:\n",
    "    ret, frame = cap.read()\n",
    "    if not ret:\n",
    "        break\n",
    "\n",
    "    faces = app.get(frame)\n",
    "    if faces:\n",
    "        for i, face in enumerate(faces):\n",
    "            bbox = face.bbox.astype(int)\n",
    "\n",
    "            x1, y1, x2, y2 = map(int, bbox)\n",
    "            x1, y1 = max(0, x1), max(0, y1)\n",
    "            x2, y2 = min(frame.shape[1], x2), min(frame.shape[0], y2)\n",
    "\n",
    "            # if x2 - x1 < 10 or y2 - y1 < 10:\n",
    "            #     continue\n",
    "\n",
    "            face_crop = frame[y1:y2, x1:x2]\n",
    "\n",
    "            # Save face crop as image\n",
    "            out_path = os.path.join(output_dir, f\"frame{frame_idx:06d}_face{i}.jpg\")\n",
    "            cv2.imwrite(out_path, face_crop)\n",
    "            face_count += 1\n",
    "\n",
    "    frame_idx += 1\n",
    "\n",
    "cap.release()\n",
    "print(f\"Saved {face_count} faces from {frame_idx} frames to {output_dir}\")\n"
   ]
  },
  {
   "cell_type": "code",
   "execution_count": 3,
   "metadata": {},
   "outputs": [
    {
     "name": "stdout",
     "output_type": "stream",
     "text": [
      "(224, 224, 3)\n"
     ]
    }
   ],
   "source": [
    "# find shape of /home/csgrad/susimmuk/acmdeepfake/data/AV-Deepfake1M-PlusPlus/faces/frame000001_face0.jpg\n",
    "path = '/home/csgrad/susimmuk/acmdeepfake/data/extracted_frames/silent_videos/8h5y1xzwge/real/1_6/frameB/frame_00001.jpg'\n",
    "img = cv2.imread(path)\n",
    "# resize the image to 224,224,3\n",
    "# img = cv2.resize(img, (224, 224))\n",
    "print(img.shape)\n",
    "#show image"
   ]
  },
  {
   "cell_type": "code",
   "execution_count": 2,
   "metadata": {},
   "outputs": [],
   "source": [
    "import torch\n",
    "import torchvision"
   ]
  },
  {
   "cell_type": "code",
   "execution_count": 3,
   "metadata": {},
   "outputs": [],
   "source": [
    "def read_video(path: str):\n",
    "    video, audio, info = torchvision.io.read_video(path, pts_unit=\"sec\")\n",
    "    video = video.permute(0, 3, 1, 2) / 255\n",
    "    audio = audio.permute(1, 0)\n",
    "    if audio.shape[0] == 0:\n",
    "        audio = torch.zeros(1, 1)\n",
    "    return video, audio, info"
   ]
  },
  {
   "cell_type": "code",
   "execution_count": 5,
   "metadata": {},
   "outputs": [
    {
     "name": "stdout",
     "output_type": "stream",
     "text": [
      "torch.Size([250, 3, 224, 224])\n",
      "torch.Size([1, 1])\n",
      "{'video_fps': 30.0}\n"
     ]
    }
   ],
   "source": [
    "path = \"/home/csgrad/susimmuk/acmdeepfake/data/extracted_frames/silent_videos/7ynmerobzp/real/1_17/1_17_magnified.mp4\"\n",
    "path = \"/home/csgrad/susimmuk/acmdeepfake/data/extracted_frames/silent_videos/7ynmerobzp/real/1_17/1_17_magnified.mp4\"\n",
    "video, audio, info = torchvision.io.read_video(path, pts_unit=\"sec\")\n",
    "video = video.permute(0, 3, 1, 2) / 255\n",
    "audio = audio.permute(1, 0)\n",
    "if audio.shape[0] == 0:\n",
    "    audio = torch.zeros(1, 1)\n",
    "print(video.shape)\n",
    "print(audio.shape)\n",
    "print(info)"
   ]
  }
 ],
 "metadata": {
  "kernelspec": {
   "display_name": "deepfake",
   "language": "python",
   "name": "python3"
  },
  "language_info": {
   "codemirror_mode": {
    "name": "ipython",
    "version": 3
   },
   "file_extension": ".py",
   "mimetype": "text/x-python",
   "name": "python",
   "nbconvert_exporter": "python",
   "pygments_lexer": "ipython3",
   "version": "3.10.16"
  }
 },
 "nbformat": 4,
 "nbformat_minor": 2
}
